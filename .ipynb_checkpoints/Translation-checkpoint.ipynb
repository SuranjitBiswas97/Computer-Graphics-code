{
 "cells": [
  {
   "cell_type": "code",
   "execution_count": 1,
   "metadata": {},
   "outputs": [
    {
     "name": "stdout",
     "output_type": "stream",
     "text": [
      "X: \n",
      "2\n",
      "Y: \n",
      "-4\n",
      "TX: \n",
      "1\n",
      "TY: \n",
      "1\n"
     ]
    },
    {
     "data": {
      "text/plain": [
       "array([ 3, -3])"
      ]
     },
     "execution_count": 1,
     "metadata": {},
     "output_type": "execute_result"
    }
   ],
   "source": [
    "import numpy.matlib \n",
    "import math as mt\n",
    "import numpy as np \n",
    "\n",
    "print(\"X: \")\n",
    "x=int(input())\n",
    "print(\"Y: \")\n",
    "y=int(input())\n",
    "print(\"TX: \")\n",
    "tx=int(input())\n",
    "print(\"TY: \")\n",
    "ty=int(input())\n",
    "\n",
    "\n",
    "a=np.array([x,y])\n",
    "b=np.array([tx,ty])\n",
    "\n",
    "a=np.array([x,y])\n",
    "b=np.array([tx,ty])\n",
    "np.add(a,b)"
   ]
  },
  {
   "cell_type": "code",
   "execution_count": null,
   "metadata": {},
   "outputs": [],
   "source": [
    "\n"
   ]
  },
  {
   "cell_type": "code",
   "execution_count": null,
   "metadata": {},
   "outputs": [],
   "source": []
  }
 ],
 "metadata": {
  "kernelspec": {
   "display_name": "Python 3",
   "language": "python",
   "name": "python3"
  },
  "language_info": {
   "codemirror_mode": {
    "name": "ipython",
    "version": 3
   },
   "file_extension": ".py",
   "mimetype": "text/x-python",
   "name": "python",
   "nbconvert_exporter": "python",
   "pygments_lexer": "ipython3",
   "version": "3.7.1"
  }
 },
 "nbformat": 4,
 "nbformat_minor": 2
}
