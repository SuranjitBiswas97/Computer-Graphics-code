{
 "cells": [
  {
   "cell_type": "code",
   "execution_count": null,
   "metadata": {},
   "outputs": [],
   "source": [
    "#Translation\n",
    "#assignment 3 problem number 7,8,9,10.(user input)\n",
    "import numpy.matlib \n",
    "import math as mt\n",
    "import numpy as np \n",
    "\n",
    "print(\"X: \")\n",
    "x=int(input())\n",
    "print(\"Y: \")\n",
    "y=int(input())\n",
    "print(\"SX: \")\n",
    "sx=int(input())\n",
    "print(\"SY: \")\n",
    "sy=int(input())\n",
    "\n",
    "\n",
    "a=np.array([x,y])\n",
    "b=np.array([sx,sy])\n",
    "\n",
    "a=np.array([x,y])\n",
    "b=np.array([sx,sy])\n",
    "np.dot(a,b)"
   ]
  },
  {
   "cell_type": "code",
   "execution_count": null,
   "metadata": {},
   "outputs": [],
   "source": []
  },
  {
   "cell_type": "code",
   "execution_count": null,
   "metadata": {},
   "outputs": [],
   "source": []
  },
  {
   "cell_type": "code",
   "execution_count": null,
   "metadata": {},
   "outputs": [],
   "source": []
  }
 ],
 "metadata": {
  "kernelspec": {
   "display_name": "Python 3",
   "language": "python",
   "name": "python3"
  },
  "language_info": {
   "codemirror_mode": {
    "name": "ipython",
    "version": 3
   },
   "file_extension": ".py",
   "mimetype": "text/x-python",
   "name": "python",
   "nbconvert_exporter": "python",
   "pygments_lexer": "ipython3",
   "version": "3.7.1"
  }
 },
 "nbformat": 4,
 "nbformat_minor": 2
}
