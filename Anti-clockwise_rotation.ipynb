{
 "cells": [
  {
   "cell_type": "code",
   "execution_count": 2,
   "metadata": {},
   "outputs": [
    {
     "name": "stdout",
     "output_type": "stream",
     "text": [
      "X: \n",
      "2\n",
      "Y: \n",
      "-4\n",
      "Th: \n",
      "30\n",
      "2 -4 30\n"
     ]
    },
    {
     "data": {
      "text/plain": [
       "array([ 3.73205081, -2.46410162])"
      ]
     },
     "execution_count": 2,
     "metadata": {},
     "output_type": "execute_result"
    }
   ],
   "source": [
    "import numpy.matlib \n",
    "import math as mt\n",
    "import numpy as np\n",
    "\n",
    "print(\"X: \")\n",
    "x=int(input())\n",
    "print(\"Y: \")\n",
    "y=int(input())\n",
    "print(\"Th: \")\n",
    "th=int(input())\n",
    "print(x,y,th)\n",
    "m=mt.cos(mt.radians(th))\n",
    "n=mt.sin(mt.radians(th))\n",
    "o=mt.sin(mt.radians(-th))\n",
    "p=mt.cos(mt.radians(th))\n",
    "\n",
    "a=np.array([x,y])\n",
    "b=np.array([[m,n],[o,p]])\n",
    "np.dot(a,b)\n"
   ]
  },
  {
   "cell_type": "code",
   "execution_count": null,
   "metadata": {},
   "outputs": [],
   "source": []
  }
 ],
 "metadata": {
  "kernelspec": {
   "display_name": "Python 3",
   "language": "python",
   "name": "python3"
  },
  "language_info": {
   "codemirror_mode": {
    "name": "ipython",
    "version": 3
   },
   "file_extension": ".py",
   "mimetype": "text/x-python",
   "name": "python",
   "nbconvert_exporter": "python",
   "pygments_lexer": "ipython3",
   "version": "3.7.1"
  }
 },
 "nbformat": 4,
 "nbformat_minor": 2
}
